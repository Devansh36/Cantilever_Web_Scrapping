{
 "cells": [
  {
   "cell_type": "code",
   "execution_count": 1,
   "id": "adf0f3cd",
   "metadata": {},
   "outputs": [],
   "source": [
    "import requests\n",
    "from bs4 import BeautifulSoup\n",
    "import pandas as pd"
   ]
  },
  {
   "cell_type": "code",
   "execution_count": 2,
   "id": "c9d17377",
   "metadata": {},
   "outputs": [
    {
     "name": "stdout",
     "output_type": "stream",
     "text": [
      "Data has been scraped and saved to products.xlsx\n"
     ]
    }
   ],
   "source": [
    "url = 'https://www.samsung.com/in/mobile-accessories/' \n",
    "response = requests.get(url)\n",
    "response.raise_for_status()  \n",
    "\n",
    "soup = BeautifulSoup(response.text, 'html.parser')\n",
    "\n",
    "products = []\n",
    "for product in soup.find_all(class_=lambda x: x and 'product' in x.lower()):  # Adjust the selector to be more flexible\n",
    "    title = product.find(class_=lambda x: x and ('title' in x.lower() or 'name' in x.lower()))\n",
    "    price = product.find(class_=lambda x: x and 'price' in x.lower())\n",
    "    description = product.find(class_=lambda x: x and 'description' in x.lower())\n",
    "    \n",
    "    product_data = {\n",
    "        'Title': title.get_text(strip=True) if title else 'N/A',\n",
    "        'Price': price.get_text(strip=True) if price else 'N/A',\n",
    "        'Description': description.get_text(strip=True) if description else 'N/A'\n",
    "    }\n",
    "    \n",
    "    products.append(product_data)\n",
    "\n",
    "if products:\n",
    "    df = pd.DataFrame(products)\n",
    "    df.to_excel('products.xlsx', index=False)\n",
    "    print('Data has been scraped and saved to products.xlsx')\n",
    "else:\n",
    "    print('No products found or unable to scrape the data')\n"
   ]
  },
  {
   "cell_type": "code",
   "execution_count": 3,
   "id": "4293e633",
   "metadata": {},
   "outputs": [
    {
     "data": {
      "text/html": [
       "<div>\n",
       "<style scoped>\n",
       "    .dataframe tbody tr th:only-of-type {\n",
       "        vertical-align: middle;\n",
       "    }\n",
       "\n",
       "    .dataframe tbody tr th {\n",
       "        vertical-align: top;\n",
       "    }\n",
       "\n",
       "    .dataframe thead th {\n",
       "        text-align: right;\n",
       "    }\n",
       "</style>\n",
       "<table border=\"1\" class=\"dataframe\">\n",
       "  <thead>\n",
       "    <tr style=\"text-align: right;\">\n",
       "      <th></th>\n",
       "      <th>Title</th>\n",
       "      <th>Price</th>\n",
       "      <th>Description</th>\n",
       "    </tr>\n",
       "  </thead>\n",
       "  <tbody>\n",
       "    <tr>\n",
       "      <th>0</th>\n",
       "      <td>New &amp; Featured</td>\n",
       "      <td>NaN</td>\n",
       "      <td>NaN</td>\n",
       "    </tr>\n",
       "    <tr>\n",
       "      <th>1</th>\n",
       "      <td>NaN</td>\n",
       "      <td>NaN</td>\n",
       "      <td>NaN</td>\n",
       "    </tr>\n",
       "    <tr>\n",
       "      <th>2</th>\n",
       "      <td>Galaxy S24 Ultra</td>\n",
       "      <td>NaN</td>\n",
       "      <td>NaN</td>\n",
       "    </tr>\n",
       "    <tr>\n",
       "      <th>3</th>\n",
       "      <td>NaN</td>\n",
       "      <td>NaN</td>\n",
       "      <td>NaN</td>\n",
       "    </tr>\n",
       "    <tr>\n",
       "      <th>4</th>\n",
       "      <td>Galaxy S24 Ultra</td>\n",
       "      <td>NaN</td>\n",
       "      <td>NaN</td>\n",
       "    </tr>\n",
       "  </tbody>\n",
       "</table>\n",
       "</div>"
      ],
      "text/plain": [
       "              Title  Price  Description\n",
       "0    New & Featured    NaN          NaN\n",
       "1               NaN    NaN          NaN\n",
       "2  Galaxy S24 Ultra    NaN          NaN\n",
       "3               NaN    NaN          NaN\n",
       "4  Galaxy S24 Ultra    NaN          NaN"
      ]
     },
     "execution_count": 3,
     "metadata": {},
     "output_type": "execute_result"
    }
   ],
   "source": [
    "df = pd.read_excel('products.xlsx')\n",
    "df.head()"
   ]
  },
  {
   "cell_type": "code",
   "execution_count": 5,
   "id": "fb424df5",
   "metadata": {},
   "outputs": [
    {
     "name": "stdout",
     "output_type": "stream",
     "text": [
      " * Serving Flask app '__main__'\n",
      " * Debug mode: on\n"
     ]
    },
    {
     "name": "stderr",
     "output_type": "stream",
     "text": [
      "WARNING: This is a development server. Do not use it in a production deployment. Use a production WSGI server instead.\n",
      " * Running on http://127.0.0.1:5000\n",
      "Press CTRL+C to quit\n",
      " * Restarting with watchdog (windowsapi)\n"
     ]
    },
    {
     "ename": "SystemExit",
     "evalue": "1",
     "output_type": "error",
     "traceback": [
      "An exception has occurred, use %tb to see the full traceback.\n",
      "\u001b[1;31mSystemExit\u001b[0m\u001b[1;31m:\u001b[0m 1\n"
     ]
    },
    {
     "name": "stderr",
     "output_type": "stream",
     "text": [
      "C:\\Users\\DELL\\anaconda3\\Lib\\site-packages\\IPython\\core\\interactiveshell.py:3513: UserWarning: To exit: use 'exit', 'quit', or Ctrl-D.\n",
      "  warn(\"To exit: use 'exit', 'quit', or Ctrl-D.\", stacklevel=1)\n"
     ]
    }
   ],
   "source": [
    "from flask import Flask, render_template, request\n",
    "import pandas as pd\n",
    "\n",
    "app = Flask(__name__)\n",
    "\n",
    "# Load the scraped data from the Excel file\n",
    "df = pd.read_excel('products.xlsx')\n",
    "\n",
    "@app.route('/', methods=['GET', 'POST'])\n",
    "def index():\n",
    "    query = request.form.get('query')\n",
    "    if query:\n",
    "        # Search for products matching the query\n",
    "        filtered_df = df[df['Title'].str.contains(query, case=False, na=False)]\n",
    "    else:\n",
    "        filtered_df = df\n",
    "\n",
    "    # Convert the DataFrame to a list of dictionaries\n",
    "    products = filtered_df.to_dict(orient='records')\n",
    "    \n",
    "    return render_template('index.html', products=products, query=query)\n",
    "\n",
    "if __name__ == '__main__':\n",
    "    app.run(debug=True)\n"
   ]
  }
 ],
 "metadata": {
  "kernelspec": {
   "display_name": "Python 3 (ipykernel)",
   "language": "python",
   "name": "python3"
  },
  "language_info": {
   "codemirror_mode": {
    "name": "ipython",
    "version": 3
   },
   "file_extension": ".py",
   "mimetype": "text/x-python",
   "name": "python",
   "nbconvert_exporter": "python",
   "pygments_lexer": "ipython3",
   "version": "3.11.4"
  }
 },
 "nbformat": 4,
 "nbformat_minor": 5
}
